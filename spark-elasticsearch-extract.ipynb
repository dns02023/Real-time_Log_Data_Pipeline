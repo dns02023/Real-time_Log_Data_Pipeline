{
 "cells": [
  {
   "cell_type": "code",
   "execution_count": 1,
   "metadata": {},
   "outputs": [
    {
     "data": {
      "text/html": [
       "\n",
       "        <div>\n",
       "            <p><b>SparkContext</b></p>\n",
       "\n",
       "            <p><a href=\"http://192.168.56.1:4040\">Spark UI</a></p>\n",
       "\n",
       "            <dl>\n",
       "              <dt>Version</dt>\n",
       "                <dd><code>v2.4.6</code></dd>\n",
       "              <dt>Master</dt>\n",
       "                <dd><code>spark://DESKTOP-K9GD4CQ.localdomain:7077</code></dd>\n",
       "              <dt>AppName</dt>\n",
       "                <dd><code>PySparkShell</code></dd>\n",
       "            </dl>\n",
       "        </div>\n",
       "        "
      ],
      "text/plain": [
       "<SparkContext master=spark://DESKTOP-K9GD4CQ.localdomain:7077 appName=PySparkShell>"
      ]
     },
     "execution_count": 1,
     "metadata": {},
     "output_type": "execute_result"
    }
   ],
   "source": [
    "sc"
   ]
  },
  {
   "cell_type": "code",
   "execution_count": 2,
   "metadata": {},
   "outputs": [
    {
     "data": {
      "text/html": [
       "\n",
       "            <div>\n",
       "                <p><b>SparkSession - hive</b></p>\n",
       "                \n",
       "        <div>\n",
       "            <p><b>SparkContext</b></p>\n",
       "\n",
       "            <p><a href=\"http://192.168.56.1:4040\">Spark UI</a></p>\n",
       "\n",
       "            <dl>\n",
       "              <dt>Version</dt>\n",
       "                <dd><code>v2.4.6</code></dd>\n",
       "              <dt>Master</dt>\n",
       "                <dd><code>spark://DESKTOP-K9GD4CQ.localdomain:7077</code></dd>\n",
       "              <dt>AppName</dt>\n",
       "                <dd><code>PySparkShell</code></dd>\n",
       "            </dl>\n",
       "        </div>\n",
       "        \n",
       "            </div>\n",
       "        "
      ],
      "text/plain": [
       "<pyspark.sql.session.SparkSession at 0x7f559ff03668>"
      ]
     },
     "execution_count": 2,
     "metadata": {},
     "output_type": "execute_result"
    }
   ],
   "source": [
    "spark"
   ]
  },
  {
   "cell_type": "code",
   "execution_count": 3,
   "metadata": {},
   "outputs": [],
   "source": [
    "from pyspark.sql import SQLContext\n",
    "from pyspark.sql.types import StructType, StructField, StringType, IntegerType, ArrayType, LongType"
   ]
  },
  {
   "cell_type": "code",
   "execution_count": 4,
   "metadata": {},
   "outputs": [],
   "source": [
    "sqlContext = SQLContext(sc)"
   ]
  },
  {
   "cell_type": "code",
   "execution_count": 5,
   "metadata": {},
   "outputs": [],
   "source": [
    "schema = StructType().add(\"action\", StringType()) \\\n",
    ".add(\"count\", LongType()) \\\n",
    ".add(\"placename\", StringType()) \\\n",
    ".add(\"placetags\", ArrayType(StringType())) \\\n",
    ".add(\"username\", StringType())"
   ]
  },
  {
   "cell_type": "code",
   "execution_count": 6,
   "metadata": {},
   "outputs": [],
   "source": [
    "df = sqlContext.read \\\n",
    "        .format(\"org.elasticsearch.spark.sql\") \\\n",
    "        .schema(schema) \\\n",
    "        .option(\"es.nodes\",\"my-es-server:9200\") \\\n",
    "        .option(\"es.read.field.include\", \"action, count, placename, username, placetags\") \\\n",
    "        .load(\"django_log_counts_tags_renamed\")"
   ]
  },
  {
   "cell_type": "code",
   "execution_count": 7,
   "metadata": {},
   "outputs": [
    {
     "name": "stdout",
     "output_type": "stream",
     "text": [
      "root\n",
      " |-- action: string (nullable = true)\n",
      " |-- count: long (nullable = true)\n",
      " |-- placename: string (nullable = true)\n",
      " |-- placetags: array (nullable = true)\n",
      " |    |-- element: string (containsNull = true)\n",
      " |-- username: string (nullable = true)\n",
      "\n"
     ]
    }
   ],
   "source": [
    "df.printSchema()"
   ]
  },
  {
   "cell_type": "code",
   "execution_count": 8,
   "metadata": {},
   "outputs": [],
   "source": [
    "df.registerTempTable(\"logs\")"
   ]
  },
  {
   "cell_type": "code",
   "execution_count": 17,
   "metadata": {},
   "outputs": [
    {
     "name": "stdout",
     "output_type": "stream",
     "text": [
      "+---------+-------------+-------+\n",
      "| col_name|    data_type|comment|\n",
      "+---------+-------------+-------+\n",
      "|   action|       string|   null|\n",
      "|    count|       bigint|   null|\n",
      "|placename|       string|   null|\n",
      "|placetags|array<string>|   null|\n",
      "| username|       string|   null|\n",
      "+---------+-------------+-------+\n",
      "\n"
     ]
    }
   ],
   "source": [
    "output = sqlContext.sql(\"DESCRIBE logs\").show()"
   ]
  },
  {
   "cell_type": "code",
   "execution_count": 18,
   "metadata": {},
   "outputs": [
    {
     "name": "stdout",
     "output_type": "stream",
     "text": [
      "+------+-----+-------------------------+------------------------------+-----------+\n",
      "|action|count|                placename|                     placetags|   username|\n",
      "+------+-----+-------------------------+------------------------------+-----------+\n",
      "|BROWSE|    1|               칠기마라탕|[, 먹어야산다, 중식, 마라탕...|testuser123|\n",
      "|BROWSE|    1|                   자스민|[, 먹어야산다, 중식, 중화요...|testuser123|\n",
      "|BROWSE|    1|            비야 고대본점|[, 먹어야산다, 한식, 부대찌...|testuser123|\n",
      "|BROWSE|   23|                 고른햇살|[, 먹어야산다, 분식, 정대후...|testuser123|\n",
      "|BROWSE|    5|                 특별식당|[, 먹어야산다, 일식, 돈부리...|testuser123|\n",
      "|BROWSE|    3|               연어이야기|[, 먹어야산다, 제기동, 정문...|testuser123|\n",
      "|BROWSE|    1|                 해곤선생|[, 먹어야산다, 중식, 중화요...|testuser123|\n",
      "|BROWSE|    1|     시그니처 키친 (뚝닭)| [, 먹어야산다, 한식, 퓨전,...|testuser123|\n",
      "|BROWSE|    1|달링스테이크 고려대가족점|[, 먹어야산다, 경양식, 스테...|testuser123|\n",
      "|BROWSE|    5|                 어흥식당|[, 먹어야산다, 양식, 스테이...|testuser123|\n",
      "|BROWSE|    6|                 어흥식당|[, 먹어야산다, 양식, 스테이...|testuser123|\n",
      "|BROWSE|    1|               이세돈까스|[, 먹어야산다, 일식, 돈까스...|testuser123|\n",
      "|BROWSE|    2|               이세돈까스|[, 먹어야산다, 일식, 돈까스...|testuser123|\n",
      "|BROWSE|    1|                   주유소|[, 먹어야산다, 경양식, 돈까...|testuser123|\n",
      "|BROWSE|    1|               연어이야기|[, 먹어야산다, 제기동, 정문...|testuser123|\n",
      "|BROWSE|    1|       비나 레스토랑 정문|[, 먹어야산다, 동남아, 커리...|testuser123|\n",
      "|BROWSE|    2|               미스터카츠|[, 먹어야산다, 경양식, 돈까...|testuser123|\n",
      "|BROWSE|    1|     고고인디안쿠진 1호점|[, 먹어야산다, 동남아, 커리...|testuser123|\n",
      "|BROWSE|    1|                 발리하이|[, 먹어야산다, 동남아, 미고...|testuser123|\n",
      "|BROWSE|    1|               핸썸베이글|[, 먹어야산다, 정대후문, 다...|testuser123|\n",
      "+------+-----+-------------------------+------------------------------+-----------+\n",
      "only showing top 20 rows\n",
      "\n"
     ]
    }
   ],
   "source": [
    "output = sqlContext.sql(\"SELECT * FROM logs WHERE username = 'testuser123'\").show()"
   ]
  }
 ],
 "metadata": {
  "kernelspec": {
   "display_name": "Python 3",
   "language": "python",
   "name": "python3"
  },
  "language_info": {
   "codemirror_mode": {
    "name": "ipython",
    "version": 3
   },
   "file_extension": ".py",
   "mimetype": "text/x-python",
   "name": "python",
   "nbconvert_exporter": "python",
   "pygments_lexer": "ipython3",
   "version": "3.7.7"
  }
 },
 "nbformat": 4,
 "nbformat_minor": 4
}
