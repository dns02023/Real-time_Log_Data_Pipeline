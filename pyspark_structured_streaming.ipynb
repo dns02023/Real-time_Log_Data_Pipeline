{
 "cells": [
  {
   "cell_type": "code",
   "execution_count": 1,
   "metadata": {},
   "outputs": [
    {
     "data": {
      "text/html": [
       "\n",
       "        <div>\n",
       "            <p><b>SparkContext</b></p>\n",
       "\n",
       "            <p><a href=\"http://192.168.56.1:4040\">Spark UI</a></p>\n",
       "\n",
       "            <dl>\n",
       "              <dt>Version</dt>\n",
       "                <dd><code>v2.4.6</code></dd>\n",
       "              <dt>Master</dt>\n",
       "                <dd><code>spark://DESKTOP-K9GD4CQ.localdomain:7077</code></dd>\n",
       "              <dt>AppName</dt>\n",
       "                <dd><code>PySparkShell</code></dd>\n",
       "            </dl>\n",
       "        </div>\n",
       "        "
      ],
      "text/plain": [
       "<SparkContext master=spark://DESKTOP-K9GD4CQ.localdomain:7077 appName=PySparkShell>"
      ]
     },
     "execution_count": 1,
     "metadata": {},
     "output_type": "execute_result"
    }
   ],
   "source": [
    "sc"
   ]
  },
  {
   "cell_type": "code",
   "execution_count": 2,
   "metadata": {},
   "outputs": [
    {
     "data": {
      "text/html": [
       "\n",
       "            <div>\n",
       "                <p><b>SparkSession - hive</b></p>\n",
       "                \n",
       "        <div>\n",
       "            <p><b>SparkContext</b></p>\n",
       "\n",
       "            <p><a href=\"http://192.168.56.1:4040\">Spark UI</a></p>\n",
       "\n",
       "            <dl>\n",
       "              <dt>Version</dt>\n",
       "                <dd><code>v2.4.6</code></dd>\n",
       "              <dt>Master</dt>\n",
       "                <dd><code>spark://DESKTOP-K9GD4CQ.localdomain:7077</code></dd>\n",
       "              <dt>AppName</dt>\n",
       "                <dd><code>PySparkShell</code></dd>\n",
       "            </dl>\n",
       "        </div>\n",
       "        \n",
       "            </div>\n",
       "        "
      ],
      "text/plain": [
       "<pyspark.sql.session.SparkSession at 0x7faa110a36a0>"
      ]
     },
     "execution_count": 2,
     "metadata": {},
     "output_type": "execute_result"
    }
   ],
   "source": [
    "spark"
   ]
  },
  {
   "cell_type": "code",
   "execution_count": 3,
   "metadata": {},
   "outputs": [],
   "source": [
    "from pyspark.sql.types import StructType, StructField, StringType, IntegerType\n",
    "place_schema = StructType([\n",
    "    StructField(\"id\", IntegerType(), True),\n",
    "    StructField(\"placename\", StringType(), True),\n",
    "    StructField(\"place_location\", StringType(), True),\n",
    "    StructField(\"placetags\", StringType(), True)])\n",
    "\n",
    " \n",
    "\n",
    "place_df = spark.read.csv(\"/home/jaehun/real_place_data.csv\",header=False,schema=place_schema)"
   ]
  },
  {
   "cell_type": "code",
   "execution_count": 4,
   "metadata": {
    "scrolled": true
   },
   "outputs": [
    {
     "name": "stdout",
     "output_type": "stream",
     "text": [
      "+---+--------------------+------------------------------+---------------------------------+\n",
      "| id|           placename|                place_location|                        placetags|\n",
      "+---+--------------------+------------------------------+---------------------------------+\n",
      "|  1|            고른햇살|   서울 성북구 개운사길 27 1층|#먹어야산다#분식#정대후문#포장...|\n",
      "|  2|            영철버거|   서울 성북구 안암로9가길 100|#먹어야산다#이공계#경양식#버거...|\n",
      "|  3|            어흥식당|   서울 성북구 고려대로27길 40|#먹어야산다#양식#스테이크#정대...|\n",
      "|  4|            특별식당|    서울 동대문구 제기로2길 15| #먹어야산다#일식#돈부리#카레#...|\n",
      "|  5|          언니네반점|   서울 성북구 고려대로27길 42|#먹어야산다#중식#정대후문#사천...|\n",
      "|  6|          곰이네국밥|      서울 동대문구 제기로 2-1|#먹어야산다#한식#국밥#고대사거...|\n",
      "|  7|  비나 레스토랑 정문|    서울 동대문구 안암로24길 4|#먹어야산다#동남아#커리#정문앞...|\n",
      "|  8|        돈까스하우스|   서울 성북구 고려대로27길 15|#먹어야산다#경양식#돈까스#정대...|\n",
      "|  9|  히포크라테스 스프 |서울 성북구 고려대로 28길 12-3|#먹어야산다#베이커리#참살이길#...|\n",
      "| 10|          미스터국밥|      서울 성북구 고려대로 102| #먹어야산다#한식#국밥#미국#참...|\n",
      "| 11|시그니처 키친 (뚝닭)| 서울 동대문구 제기동 137-7...| #먹어야산다#한식#퓨전#고기#양...|\n",
      "| 12|              용초수|   서울 성북구 고려대로27길 20|#먹어야산다#중식#사천식#꿔바로...|\n",
      "| 13|              주유소| 서울 성북구 고려대로27길 24-2|#먹어야산다#경양식#돈까스#생맥...|\n",
      "| 14|          연어이야기|    서울 동대문구 제기로 53-16|#먹어야산다#제기동#정문앞#고려...|\n",
      "| 15|       짱가네 돈냉면|       서울 성북구 안암로 73-9|#먹어야산다#냉면#이공계#안암로...|\n",
      "| 16|          이세돈까스|       서울 성북구 개운사길 32|#먹어야산다#일식#돈까스#정대후...|\n",
      "| 17|          동우설렁탕|       서울 성북구 개운사길 45|#먹어야산다#한식#설렁탕#정대후...|\n",
      "| 18|          미스터카츠|     서울 성북구 개운사길 21-3|#먹어야산다#경양식#돈까스#정대...|\n",
      "| 19|고고인디안쿠진 1호점| 서울시 성북구 안암로 81-4 ...|#먹어야산다#동남아#커리#참살이...|\n",
      "| 20|        고대맛집ㅋㅋ| 서울 성북구 안암로9가길 80-17|#먹어야산다#분식#안암오거리#이...|\n",
      "+---+--------------------+------------------------------+---------------------------------+\n",
      "only showing top 20 rows\n",
      "\n"
     ]
    }
   ],
   "source": [
    "place_df.show()"
   ]
  },
  {
   "cell_type": "code",
   "execution_count": 5,
   "metadata": {},
   "outputs": [],
   "source": [
    "cols = (\"id\", \"place_location\")\n",
    "new_place_df = place_df.drop(*cols)"
   ]
  },
  {
   "cell_type": "code",
   "execution_count": 6,
   "metadata": {},
   "outputs": [
    {
     "name": "stdout",
     "output_type": "stream",
     "text": [
      "+--------------------+---------------------------------+\n",
      "|           placename|                        placetags|\n",
      "+--------------------+---------------------------------+\n",
      "|            고른햇살|#먹어야산다#분식#정대후문#포장...|\n",
      "|            영철버거|#먹어야산다#이공계#경양식#버거...|\n",
      "|            어흥식당|#먹어야산다#양식#스테이크#정대...|\n",
      "|            특별식당| #먹어야산다#일식#돈부리#카레#...|\n",
      "|          언니네반점|#먹어야산다#중식#정대후문#사천...|\n",
      "|          곰이네국밥|#먹어야산다#한식#국밥#고대사거...|\n",
      "|  비나 레스토랑 정문|#먹어야산다#동남아#커리#정문앞...|\n",
      "|        돈까스하우스|#먹어야산다#경양식#돈까스#정대...|\n",
      "|  히포크라테스 스프 |#먹어야산다#베이커리#참살이길#...|\n",
      "|          미스터국밥| #먹어야산다#한식#국밥#미국#참...|\n",
      "|시그니처 키친 (뚝닭)| #먹어야산다#한식#퓨전#고기#양...|\n",
      "|              용초수|#먹어야산다#중식#사천식#꿔바로...|\n",
      "|              주유소|#먹어야산다#경양식#돈까스#생맥...|\n",
      "|          연어이야기|#먹어야산다#제기동#정문앞#고려...|\n",
      "|       짱가네 돈냉면|#먹어야산다#냉면#이공계#안암로...|\n",
      "|          이세돈까스|#먹어야산다#일식#돈까스#정대후...|\n",
      "|          동우설렁탕|#먹어야산다#한식#설렁탕#정대후...|\n",
      "|          미스터카츠|#먹어야산다#경양식#돈까스#정대...|\n",
      "|고고인디안쿠진 1호점|#먹어야산다#동남아#커리#참살이...|\n",
      "|        고대맛집ㅋㅋ|#먹어야산다#분식#안암오거리#이...|\n",
      "+--------------------+---------------------------------+\n",
      "only showing top 20 rows\n",
      "\n"
     ]
    }
   ],
   "source": [
    "new_place_df.show()"
   ]
  },
  {
   "cell_type": "code",
   "execution_count": 7,
   "metadata": {},
   "outputs": [],
   "source": [
    "from pyspark.sql.functions import split \n",
    "target_place_df = new_place_df.select(\"placename\", split(\"placetags\", \"#\"))"
   ]
  },
  {
   "cell_type": "code",
   "execution_count": 8,
   "metadata": {},
   "outputs": [
    {
     "name": "stdout",
     "output_type": "stream",
     "text": [
      "+--------------------+------------------------------+\n",
      "|           placename|           split(placetags, #)|\n",
      "+--------------------+------------------------------+\n",
      "|            고른햇살|[, 먹어야산다, 분식, 정대후...|\n",
      "|            영철버거|[, 먹어야산다, 이공계, 경양...|\n",
      "|            어흥식당|[, 먹어야산다, 양식, 스테이...|\n",
      "|            특별식당|[, 먹어야산다, 일식, 돈부리...|\n",
      "|          언니네반점|[, 먹어야산다, 중식, 정대후...|\n",
      "|          곰이네국밥| [, 먹어야산다, 한식, 국밥,...|\n",
      "|  비나 레스토랑 정문|[, 먹어야산다, 동남아, 커리...|\n",
      "|        돈까스하우스|[, 먹어야산다, 경양식, 돈까...|\n",
      "|  히포크라테스 스프 |[, 먹어야산다, 베이커리, 참...|\n",
      "|          미스터국밥| [, 먹어야산다, 한식, 국밥,...|\n",
      "|시그니처 키친 (뚝닭)| [, 먹어야산다, 한식, 퓨전,...|\n",
      "|              용초수|[, 먹어야산다, 중식, 사천식...|\n",
      "|              주유소|[, 먹어야산다, 경양식, 돈까...|\n",
      "|          연어이야기|[, 먹어야산다, 제기동, 정문...|\n",
      "|       짱가네 돈냉면|[, 먹어야산다, 냉면, 이공계...|\n",
      "|          이세돈까스|[, 먹어야산다, 일식, 돈까스...|\n",
      "|          동우설렁탕|[, 먹어야산다, 한식, 설렁탕...|\n",
      "|          미스터카츠|[, 먹어야산다, 경양식, 돈까...|\n",
      "|고고인디안쿠진 1호점|[, 먹어야산다, 동남아, 커리...|\n",
      "|        고대맛집ㅋㅋ|[, 먹어야산다, 분식, 안암오...|\n",
      "+--------------------+------------------------------+\n",
      "only showing top 20 rows\n",
      "\n"
     ]
    }
   ],
   "source": [
    "target_place_df.show()"
   ]
  },
  {
   "cell_type": "code",
   "execution_count": 10,
   "metadata": {},
   "outputs": [],
   "source": [
    "df = spark \\\n",
    "  .readStream \\\n",
    "  .format(\"kafka\") \\\n",
    "  .option(\"kafka.bootstrap.servers\", \"my-kafka-server:port\") \\\n",
    "  .option(\"subscribe\", \"django-log-test\") \\\n",
    "  .load()\n",
    "ds = df.selectExpr(\"CAST(value AS STRING)\")"
   ]
  },
  {
   "cell_type": "code",
   "execution_count": 11,
   "metadata": {},
   "outputs": [],
   "source": [
    "df2 = spark \\\n",
    "  .readStream \\\n",
    "  .format(\"kafka\") \\\n",
    "  .option(\"kafka.bootstrap.servers\", \"my-kafka-server:port\") \\\n",
    "  .option(\"subscribe\", \"django-log-count-test\") \\\n",
    "  .load()\n",
    "ds2 = df2.selectExpr(\"CAST(value AS STRING)\")"
   ]
  },
  {
   "cell_type": "code",
   "execution_count": 12,
   "metadata": {},
   "outputs": [
    {
     "name": "stdout",
     "output_type": "stream",
     "text": [
      "root\n",
      " |-- key: binary (nullable = true)\n",
      " |-- value: binary (nullable = true)\n",
      " |-- topic: string (nullable = true)\n",
      " |-- partition: integer (nullable = true)\n",
      " |-- offset: long (nullable = true)\n",
      " |-- timestamp: timestamp (nullable = true)\n",
      " |-- timestampType: integer (nullable = true)\n",
      "\n",
      "root\n",
      " |-- key: binary (nullable = true)\n",
      " |-- value: binary (nullable = true)\n",
      " |-- topic: string (nullable = true)\n",
      " |-- partition: integer (nullable = true)\n",
      " |-- offset: long (nullable = true)\n",
      " |-- timestamp: timestamp (nullable = true)\n",
      " |-- timestampType: integer (nullable = true)\n",
      "\n"
     ]
    }
   ],
   "source": [
    "df.printSchema()\n",
    "df2.printSchema()"
   ]
  },
  {
   "cell_type": "code",
   "execution_count": 13,
   "metadata": {},
   "outputs": [
    {
     "name": "stdout",
     "output_type": "stream",
     "text": [
      "root\n",
      " |-- value: string (nullable = true)\n",
      "\n",
      "root\n",
      " |-- value: string (nullable = true)\n",
      "\n"
     ]
    }
   ],
   "source": [
    "ds.printSchema()\n",
    "ds2.printSchema()"
   ]
  },
  {
   "cell_type": "code",
   "execution_count": 14,
   "metadata": {},
   "outputs": [],
   "source": [
    "schema = StructType().add(\"username\", StringType()).add(\"action\", StringType()).add(\"placename\", StringType())\n",
    "schema2 = StructType().add(\"username\", StringType()).add(\"action\", StringType()).add(\"placename\", StringType()).add(\"count\", IntegerType())"
   ]
  },
  {
   "cell_type": "code",
   "execution_count": 15,
   "metadata": {},
   "outputs": [
    {
     "name": "stdout",
     "output_type": "stream",
     "text": [
      "root\n",
      " |-- jsontostructs(value): struct (nullable = true)\n",
      " |    |-- username: string (nullable = true)\n",
      " |    |-- action: string (nullable = true)\n",
      " |    |-- placename: string (nullable = true)\n",
      "\n",
      "root\n",
      " |-- jsontostructs(value): struct (nullable = true)\n",
      " |    |-- username: string (nullable = true)\n",
      " |    |-- action: string (nullable = true)\n",
      " |    |-- placename: string (nullable = true)\n",
      " |    |-- count: integer (nullable = true)\n",
      "\n",
      "root\n",
      " |-- username: string (nullable = true)\n",
      " |-- action: string (nullable = true)\n",
      " |-- placename: string (nullable = true)\n",
      "\n",
      "root\n",
      " |-- username: string (nullable = true)\n",
      " |-- action: string (nullable = true)\n",
      " |-- placename: string (nullable = true)\n",
      " |-- count: integer (nullable = true)\n",
      "\n",
      "root\n",
      " |-- username: string (nullable = true)\n",
      " |-- action: string (nullable = true)\n",
      " |-- placename: string (nullable = true)\n",
      " |-- count: long (nullable = false)\n",
      "\n",
      "root\n",
      " |-- placename: string (nullable = true)\n",
      " |-- username: string (nullable = true)\n",
      " |-- action: string (nullable = true)\n",
      " |-- count: integer (nullable = true)\n",
      " |-- split(placetags, #): array (nullable = true)\n",
      " |    |-- element: string (containsNull = true)\n",
      "\n"
     ]
    }
   ],
   "source": [
    "from pyspark.sql.functions import from_json\n",
    "import pyspark.sql.functions as F\n",
    "\n",
    "data = ds.select(from_json(\"value\", schema)).alias(\"parsed\")\n",
    "data2 = ds2.select(from_json(\"value\", schema2)).alias(\"parsed2\")\n",
    "\n",
    "data.printSchema()\n",
    "data2.printSchema()\n",
    "\n",
    "logdf = data.select(\"jsontostructs(value).*\")\n",
    "logdf2 = data2.select(\"jsontostructs(value).*\")\n",
    "\n",
    "logdf.printSchema()\n",
    "logdf2.printSchema()\n",
    "\n",
    "logcounts = logdf.groupBy(\"username\", \"action\", \"placename\").count()\n",
    "logcounts_tags = logdf2.join(target_place_df, \"placename\")\n",
    "\n",
    "logcounts.printSchema()\n",
    "logcounts_tags.printSchema()"
   ]
  },
  {
   "cell_type": "code",
   "execution_count": null,
   "metadata": {},
   "outputs": [],
   "source": [
    "from pyspark.sql.functions import to_json\n",
    "from pyspark.sql.types import IntegerType\n",
    "\n",
    "logcounts.createOrReplaceTempView('logtable')\n",
    "\n",
    "logcounts_sql = spark.sql(\"select (username, action, placename, count) as value from logtable\").select(to_json(\"value\").alias(\"value\"))\n",
    "query1 = logcounts_sql \\\n",
    "        .writeStream \\\n",
    "        .trigger(processingTime='30 seconds') \\\n",
    "        .outputMode(\"update\") \\\n",
    "        .format(\"kafka\") \\\n",
    "        .option(\"kafka.bootstrap.servers\", \"my-kafka-server:port\") \\\n",
    "        .option(\"checkpointLocation\",\"pyspark/streaming/checkpointLocation\") \\\n",
    "        .option(\"topic\", \"django-log-count-test\") \\\n",
    "        .start()\n",
    "\n",
    "query2 = logcounts_tags \\\n",
    "        .writeStream \\\n",
    "        .outputMode(\"append\") \\\n",
    "        .format(\"org.elasticsearch.spark.sql\") \\\n",
    "        .option(\"checkpointLocation\", \"pyspark/streaming/checkpointLocation2\") \\\n",
    "        .option(\"es.resource\", \"django_log_counts_tags_test/user_log_data_test\") \\\n",
    "        .option(\"es.nodes\", \"my-elasticsearch-server:port\") \\\n",
    "        .start()\n",
    "\n",
    "query1.awaitTermination()\n",
    "query2.awaitTermination()\n",
    "\n",
    "##############################################################################################"
   ]
  }
 ],
 "metadata": {
  "kernelspec": {
   "display_name": "Python 3",
   "language": "python",
   "name": "python3"
  },
  "language_info": {
   "codemirror_mode": {
    "name": "ipython",
    "version": 3
   },
   "file_extension": ".py",
   "mimetype": "text/x-python",
   "name": "python",
   "nbconvert_exporter": "python",
   "pygments_lexer": "ipython3",
   "version": "3.7.7"
  }
 },
 "nbformat": 4,
 "nbformat_minor": 4
}
